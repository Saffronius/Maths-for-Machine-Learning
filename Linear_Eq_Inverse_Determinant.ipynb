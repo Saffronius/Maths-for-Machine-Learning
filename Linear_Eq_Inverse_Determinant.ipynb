{
 "cells": [
  {
   "cell_type": "markdown",
   "metadata": {
    "id": "7d4kO_YT0oDD"
   },
   "source": [
    "# System of Linear Equations with a unique solution, Matrix Inverse and the Determinant"
   ]
  },
  {
   "cell_type": "markdown",
   "metadata": {
    "id": "bJl8_1-B00g3"
   },
   "source": [
    "The goal of this homework is to learn how to solve systems of linear equations and to be able to compute the determinant and the inverse of an invertible matrix.\n",
    "\n",
    "**After this assignment you will be able to:**\n",
    "- Use `NumPy` package to set up the arrays corresponding to the system of linear equations.\n",
    "- Evaluate the determinant of a matrix and find the solution of the system with `NumPy` linear algebra package.\n",
    "- Perform row reduction to bring matrix into row echelon form\n",
    "- Find the solution for the system of linear equations using row reduced approach.\n",
    "- Compute the inverse of a matrix with `Numpy` linear algebra package and using row reduction approach."
   ]
  },
  {
   "cell_type": "markdown",
   "metadata": {
    "id": "al1PcVSW2LSU"
   },
   "source": [
    "## 1. Solving System of Linear Equations\n",
    "\n",
    "### 1.1 Row Reduction approach"
   ]
  },
  {
   "cell_type": "markdown",
   "metadata": {
    "id": "YKrWvcu-2j5Y"
   },
   "source": [
    "Solve the following system of linear equations using the reduction method:\n",
    "$$\\begin{cases}\n",
    "x + 2y - 3z + 4w = 12, \\\\ 2x + 2y - 2z + 3w = 10, \\\\ y + z = -1, \\\\ x - y + z - 2w = -4 \\end{cases}\\tag{1}$$\n"
   ]
  },
  {
   "cell_type": "code",
   "execution_count": 2,
   "metadata": {
    "id": "DrkFDTJc4GNP",
    "scrolled": true
   },
   "outputs": [
    {
     "name": "stdout",
     "output_type": "stream",
     "text": [
      "[ 1. -0. -1.  2.]\n"
     ]
    }
   ],
   "source": [
    "import numpy as np\n",
    "A=np.array([[1,2,-3,4], [2,2,-2,3], [0,1,1,0], [1,-1,1,-2]],dtype=float)\n",
    "B=np.array([12,10,-1,-4],dtype=float)\n",
    "aug=np.hstack([A,B.reshape(-1,1)])\n",
    "n=len(B)\n",
    "for i in range(n):\n",
    "    m=i+np.argmax(np.abs(aug[i:,i]))\n",
    "    aug[[i,m]]=aug[[m,i]]\n",
    "    for j in range(i+1,n):\n",
    "        fac=aug[j][i]/aug[i][i]\n",
    "        aug[j]-=fac*aug[i]\n",
    "x=np.zeros(n)\n",
    "for i in range(n-1,-1,-1):\n",
    "    x[i]=(aug[i,-1]-np.dot(aug[i,i+1:n],x[i+1:]))/aug[i,i]\n",
    "print(x)"
   ]
  },
  {
   "cell_type": "markdown",
   "metadata": {
    "id": "Yq8zCJ024YSK"
   },
   "source": [
    "### 1.2 `Numpy` linear algebra package\n",
    "Solve the above system of linear equations using the `numpy.linalg` package."
   ]
  },
  {
   "cell_type": "code",
   "execution_count": 3,
   "metadata": {
    "id": "zIgQXSG84uSq"
   },
   "outputs": [
    {
     "name": "stdout",
     "output_type": "stream",
     "text": [
      "[ 1. -0. -1.  2.]\n"
     ]
    }
   ],
   "source": [
    "S=np.linalg.solve(A,B)\n",
    "print(S)"
   ]
  },
  {
   "cell_type": "markdown",
   "metadata": {
    "id": "a3zNZvUI47--"
   },
   "source": [
    "## 2. Determinant\n",
    "### 2.1 Compute the determinant of matrix $A$ using the `numpy.linalg` package:\n",
    "\n",
    "$$ \\begin{align}\n",
    "  \\textbf{A}  = \\begin{bmatrix}\n",
    "1 & 0 & -2\\\\\n",
    "3 & 1 & -2\\\\\n",
    "-5 & -1 & 9\n",
    "\\end{bmatrix}\n",
    "  \\end{align}\n",
    "  $$"
   ]
  },
  {
   "cell_type": "code",
   "execution_count": 4,
   "metadata": {
    "id": "8UE20mGu5Cy4"
   },
   "outputs": [
    {
     "name": "stdout",
     "output_type": "stream",
     "text": [
      "3.0000000000000004\n"
     ]
    }
   ],
   "source": [
    "A=np.array([[1,0,-2],[3,1,-2],[-5,-1,9]])\n",
    "detA=np.linalg.det(A)\n",
    "print(detA)"
   ]
  },
  {
   "cell_type": "markdown",
   "metadata": {
    "id": "AiwFmcw46fHm"
   },
   "source": [
    "### 2.2 Is the above matrix invertible? Why?"
   ]
  },
  {
   "cell_type": "markdown",
   "metadata": {
    "id": "YfkS_QNJ67kT"
   },
   "source": [
    "Answer here: Since Determinant is 3, the matrix is invertible. For a matrix to be non-invertible, determinant has to be 0."
   ]
  },
  {
   "cell_type": "markdown",
   "metadata": {
    "id": "A_x3V2i16mWE"
   },
   "source": [
    "# 3. Matrix Inverse\n",
    "### 3.1 Compute the inverse of non-singular matrix $B$ using row reduction\n",
    "$$ \\begin{align}\n",
    "  \\textbf{B}  = \\begin{bmatrix}\n",
    "1 & 2 & 1\\\\\n",
    "4 & 4 & 5\\\\\n",
    "6 & 7 & 7\n",
    "\\end{bmatrix}\n",
    "  \\end{align}\n",
    "  $$"
   ]
  },
  {
   "cell_type": "code",
   "execution_count": 5,
   "metadata": {
    "id": "6H1rRYEs6y62"
   },
   "outputs": [
    {
     "name": "stdout",
     "output_type": "stream",
     "text": [
      "[[-7. -7.  6.]\n",
      " [ 2.  1. -1.]\n",
      " [ 4.  5. -4.]]\n"
     ]
    }
   ],
   "source": [
    "import numpy as np\n",
    "m=np.array([[1,2,1],[4,4,5],[6,7,7]])\n",
    "i=np.eye(3)\n",
    "aug=np.hstack([m,i])\n",
    "\n",
    "for x in range(3):\n",
    "    val = aug[x,x]\n",
    "    for y in range(6):\n",
    "        aug[x,y]= aug[x,y]/val\n",
    "\n",
    "    for z in range(x+1,3):\n",
    "        fac = aug[z,x]\n",
    "        for y in range(6):\n",
    "            aug[z, y]= aug[z,y]-fac* aug[x,y]\n",
    "            \n",
    "for x in range(2,-1,-1):\n",
    "    for z in range(x-1,-1,-1):\n",
    "        fac = aug[z,x]\n",
    "        for y in range(6):\n",
    "            aug[z,y]= aug[z,y]-fac * aug[x,y]\n",
    "inv_m = aug[:,3:6]\n",
    "print(inv_m)\n"
   ]
  },
  {
   "cell_type": "markdown",
   "metadata": {
    "id": "5voXiito6zis"
   },
   "source": [
    "### 3.2 Compute the inverse matrix $B$ using the `numpy.linalg` package."
   ]
  },
  {
   "cell_type": "code",
   "execution_count": 6,
   "metadata": {
    "id": "BJ3MYBQ-64hV"
   },
   "outputs": [
    {
     "name": "stdout",
     "output_type": "stream",
     "text": [
      "[[-7. -7.  6.]\n",
      " [ 2.  1. -1.]\n",
      " [ 4.  5. -4.]]\n"
     ]
    }
   ],
   "source": [
    "B=np.array([[1,2,1],[4,4,5],[6,7,7]])\n",
    "Binv=np.linalg.inv(B)\n",
    "print(Binv)"
   ]
  },
  {
   "cell_type": "code",
   "execution_count": null,
   "metadata": {},
   "outputs": [],
   "source": []
  }
 ],
 "metadata": {
  "colab": {
   "provenance": []
  },
  "kernelspec": {
   "display_name": "Python 3 (ipykernel)",
   "language": "python",
   "name": "python3"
  },
  "language_info": {
   "codemirror_mode": {
    "name": "ipython",
    "version": 3
   },
   "file_extension": ".py",
   "mimetype": "text/x-python",
   "name": "python",
   "nbconvert_exporter": "python",
   "pygments_lexer": "ipython3",
   "version": "3.10.9"
  }
 },
 "nbformat": 4,
 "nbformat_minor": 1
}
